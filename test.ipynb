{
 "cells": [
  {
   "cell_type": "code",
   "execution_count": 2,
   "metadata": {},
   "outputs": [],
   "source": [
    "import pandas as pd"
   ]
  },
  {
   "cell_type": "code",
   "execution_count": 32,
   "metadata": {},
   "outputs": [
    {
     "data": {
      "text/html": [
       "<div>\n",
       "<style scoped>\n",
       "    .dataframe tbody tr th:only-of-type {\n",
       "        vertical-align: middle;\n",
       "    }\n",
       "\n",
       "    .dataframe tbody tr th {\n",
       "        vertical-align: top;\n",
       "    }\n",
       "\n",
       "    .dataframe thead th {\n",
       "        text-align: right;\n",
       "    }\n",
       "</style>\n",
       "<table border=\"1\" class=\"dataframe\">\n",
       "  <thead>\n",
       "    <tr style=\"text-align: right;\">\n",
       "      <th></th>\n",
       "      <th>Customer</th>\n",
       "      <th>Permit</th>\n",
       "      <th>Time</th>\n",
       "      <th>Permissions</th>\n",
       "      <th>Personnel Type (Fac/Staff, Student, Visitor)</th>\n",
       "      <th>Permission Explanation</th>\n",
       "    </tr>\n",
       "  </thead>\n",
       "  <tbody>\n",
       "    <tr>\n",
       "      <th>0</th>\n",
       "      <td>Customer 1</td>\n",
       "      <td>ADA Placard</td>\n",
       "      <td>NaN</td>\n",
       "      <td>NaN</td>\n",
       "      <td>Visitor</td>\n",
       "      <td>This driver is a visitor without a DOTS permit...</td>\n",
       "    </tr>\n",
       "    <tr>\n",
       "      <th>1</th>\n",
       "      <td>Customer 2</td>\n",
       "      <td>Surface Lot</td>\n",
       "      <td>Daily</td>\n",
       "      <td>Lot 1</td>\n",
       "      <td>Visitor</td>\n",
       "      <td>This driver is a visitor with a DOTS permit. W...</td>\n",
       "    </tr>\n",
       "    <tr>\n",
       "      <th>2</th>\n",
       "      <td>Customer 3</td>\n",
       "      <td>No Permit</td>\n",
       "      <td>NaN</td>\n",
       "      <td>NaN</td>\n",
       "      <td>Visitor</td>\n",
       "      <td>This driver is a visitor without a DOTS permit...</td>\n",
       "    </tr>\n",
       "    <tr>\n",
       "      <th>3</th>\n",
       "      <td>Customer 4</td>\n",
       "      <td>No Permit</td>\n",
       "      <td>NaN</td>\n",
       "      <td>NaN</td>\n",
       "      <td>Visitor</td>\n",
       "      <td>This driver is a visitor without a DOTS permit...</td>\n",
       "    </tr>\n",
       "    <tr>\n",
       "      <th>4</th>\n",
       "      <td>Customer 5</td>\n",
       "      <td>Validation Code/Meter Permit</td>\n",
       "      <td>Daily</td>\n",
       "      <td>Paid Parking Area</td>\n",
       "      <td>Visitor</td>\n",
       "      <td>This driver is a visitor with a DOTS meter per...</td>\n",
       "    </tr>\n",
       "  </tbody>\n",
       "</table>\n",
       "</div>"
      ],
      "text/plain": [
       "     Customer                        Permit   Time        Permissions  \\\n",
       "0  Customer 1                   ADA Placard    NaN                NaN   \n",
       "1  Customer 2                   Surface Lot  Daily              Lot 1   \n",
       "2  Customer 3                     No Permit    NaN                NaN   \n",
       "3  Customer 4                     No Permit    NaN                NaN   \n",
       "4  Customer 5  Validation Code/Meter Permit  Daily  Paid Parking Area   \n",
       "\n",
       "  Personnel Type (Fac/Staff, Student, Visitor)  \\\n",
       "0                                      Visitor   \n",
       "1                                      Visitor   \n",
       "2                                      Visitor   \n",
       "3                                      Visitor   \n",
       "4                                      Visitor   \n",
       "\n",
       "                              Permission Explanation  \n",
       "0  This driver is a visitor without a DOTS permit...  \n",
       "1  This driver is a visitor with a DOTS permit. W...  \n",
       "2  This driver is a visitor without a DOTS permit...  \n",
       "3  This driver is a visitor without a DOTS permit...  \n",
       "4  This driver is a visitor with a DOTS meter per...  "
      ]
     },
     "execution_count": 32,
     "metadata": {},
     "output_type": "execute_result"
    }
   ],
   "source": [
    "cust_exp = pd.read_csv('data/Customer Cases - Explained.csv').reset_index(drop=True)\n",
    "cust_training = pd.read_csv('data/Customer Cases - Training.csv').iloc[:50].reset_index(drop=True)\n",
    "cust_exp.head()"
   ]
  },
  {
   "cell_type": "code",
   "execution_count": 39,
   "metadata": {},
   "outputs": [
    {
     "ename": "ValueError",
     "evalue": "Can only compare identically-labeled (both index and columns) DataFrame objects",
     "output_type": "error",
     "traceback": [
      "\u001b[31m---------------------------------------------------------------------------\u001b[39m",
      "\u001b[31mValueError\u001b[39m                                Traceback (most recent call last)",
      "\u001b[32m/var/folders/3_/_3xy56md31d24tz9rgd5r83w0000gn/T/ipykernel_86213/3954721940.py\u001b[39m in \u001b[36m?\u001b[39m\u001b[34m()\u001b[39m\n\u001b[32m      1\u001b[39m \u001b[38;5;66;03m# Find non-matching rows\u001b[39;00m\n\u001b[32m----> \u001b[39m\u001b[32m2\u001b[39m diff_rows = cust_exp.compare(cust_training, keep_equal=\u001b[38;5;28;01mFalse\u001b[39;00m)\n\u001b[32m      3\u001b[39m \n\u001b[32m      4\u001b[39m \u001b[38;5;66;03m# Display the differences\u001b[39;00m\n\u001b[32m      5\u001b[39m \u001b[38;5;28;01mimport\u001b[39;00m ace_tools \u001b[38;5;28;01mas\u001b[39;00m tools\n",
      "\u001b[32m~/anaconda3/envs/ic25-venv/lib/python3.13/site-packages/pandas/core/frame.py\u001b[39m in \u001b[36m?\u001b[39m\u001b[34m(self, other, align_axis, keep_shape, keep_equal, result_names)\u001b[39m\n\u001b[32m   8589\u001b[39m         keep_shape: bool = \u001b[38;5;28;01mFalse\u001b[39;00m,\n\u001b[32m   8590\u001b[39m         keep_equal: bool = \u001b[38;5;28;01mFalse\u001b[39;00m,\n\u001b[32m   8591\u001b[39m         result_names: Suffixes = (\u001b[33m\"self\"\u001b[39m, \u001b[33m\"other\"\u001b[39m),\n\u001b[32m   8592\u001b[39m     ) -> DataFrame:\n\u001b[32m-> \u001b[39m\u001b[32m8593\u001b[39m         return super().compare(\n\u001b[32m   8594\u001b[39m             other=other,\n\u001b[32m   8595\u001b[39m             align_axis=align_axis,\n\u001b[32m   8596\u001b[39m             keep_shape=keep_shape,\n",
      "\u001b[32m~/anaconda3/envs/ic25-venv/lib/python3.13/site-packages/pandas/core/generic.py\u001b[39m in \u001b[36m?\u001b[39m\u001b[34m(self, other, align_axis, keep_shape, keep_equal, result_names)\u001b[39m\n\u001b[32m  10117\u001b[39m             raise TypeError(\n\u001b[32m  10118\u001b[39m                 f\"can only compare '{cls_self}' (not '{cls_other}') with '{cls_self}'\"\n\u001b[32m  10119\u001b[39m             )\n\u001b[32m  10120\u001b[39m \n\u001b[32m> \u001b[39m\u001b[32m10121\u001b[39m         mask = ~((self == other) | (self.isna() & other.isna()))\n\u001b[32m  10122\u001b[39m         mask.fillna(\u001b[38;5;28;01mTrue\u001b[39;00m, inplace=\u001b[38;5;28;01mTrue\u001b[39;00m)\n\u001b[32m  10123\u001b[39m \n\u001b[32m  10124\u001b[39m         \u001b[38;5;28;01mif\u001b[39;00m \u001b[38;5;28;01mnot\u001b[39;00m keep_equal:\n",
      "\u001b[32m~/anaconda3/envs/ic25-venv/lib/python3.13/site-packages/pandas/core/ops/common.py\u001b[39m in \u001b[36m?\u001b[39m\u001b[34m(self, other)\u001b[39m\n\u001b[32m     72\u001b[39m                     \u001b[38;5;28;01mreturn\u001b[39;00m NotImplemented\n\u001b[32m     73\u001b[39m \n\u001b[32m     74\u001b[39m         other = item_from_zerodim(other)\n\u001b[32m     75\u001b[39m \n\u001b[32m---> \u001b[39m\u001b[32m76\u001b[39m         \u001b[38;5;28;01mreturn\u001b[39;00m method(self, other)\n",
      "\u001b[32m~/anaconda3/envs/ic25-venv/lib/python3.13/site-packages/pandas/core/arraylike.py\u001b[39m in \u001b[36m?\u001b[39m\u001b[34m(self, other)\u001b[39m\n\u001b[32m     38\u001b[39m     @unpack_zerodim_and_defer(\u001b[33m\"__eq__\"\u001b[39m)\n\u001b[32m     39\u001b[39m     \u001b[38;5;28;01mdef\u001b[39;00m __eq__(self, other):\n\u001b[32m---> \u001b[39m\u001b[32m40\u001b[39m         \u001b[38;5;28;01mreturn\u001b[39;00m self._cmp_method(other, operator.eq)\n",
      "\u001b[32m~/anaconda3/envs/ic25-venv/lib/python3.13/site-packages/pandas/core/frame.py\u001b[39m in \u001b[36m?\u001b[39m\u001b[34m(self, other, op)\u001b[39m\n\u001b[32m   7894\u001b[39m     \u001b[38;5;28;01mdef\u001b[39;00m _cmp_method(self, other, op):\n\u001b[32m   7895\u001b[39m         axis: Literal[\u001b[32m1\u001b[39m] = \u001b[32m1\u001b[39m  \u001b[38;5;66;03m# only relevant for Series other case\u001b[39;00m\n\u001b[32m   7896\u001b[39m \n\u001b[32m-> \u001b[39m\u001b[32m7897\u001b[39m         self, other = self._align_for_op(other, axis, flex=\u001b[38;5;28;01mFalse\u001b[39;00m, level=\u001b[38;5;28;01mNone\u001b[39;00m)\n\u001b[32m   7898\u001b[39m \n\u001b[32m   7899\u001b[39m         \u001b[38;5;66;03m# See GH#4537 for discussion of scalar op behavior\u001b[39;00m\n\u001b[32m   7900\u001b[39m         new_data = self._dispatch_frame_op(other, op, axis=axis)\n",
      "\u001b[32m~/anaconda3/envs/ic25-venv/lib/python3.13/site-packages/pandas/core/frame.py\u001b[39m in \u001b[36m?\u001b[39m\u001b[34m(self, other, axis, flex, level)\u001b[39m\n\u001b[32m   8192\u001b[39m                     left, right = left.align(\n\u001b[32m   8193\u001b[39m                         right, join=\u001b[33m\"outer\"\u001b[39m, level=level, copy=\u001b[38;5;28;01mFalse\u001b[39;00m\n\u001b[32m   8194\u001b[39m                     )\n\u001b[32m   8195\u001b[39m                 \u001b[38;5;28;01melse\u001b[39;00m:\n\u001b[32m-> \u001b[39m\u001b[32m8196\u001b[39m                     raise ValueError(\n\u001b[32m   8197\u001b[39m                         \u001b[33m\"Can only compare identically-labeled (both index and columns) \"\u001b[39m\n\u001b[32m   8198\u001b[39m                         \u001b[33m\"DataFrame objects\"\u001b[39m\n\u001b[32m   8199\u001b[39m                     )\n",
      "\u001b[31mValueError\u001b[39m: Can only compare identically-labeled (both index and columns) DataFrame objects"
     ]
    }
   ],
   "source": [
    "# Find non-matching rows\n",
    "diff_rows = cust_exp.compare(cust_training, keep_equal=False)\n",
    "\n",
    "# Display the differences\n",
    "import ace_tools as tools\n",
    "tools.display_dataframe_to_user(name=\"Non-Matching Rows\", dataframe=diff_rows)"
   ]
  },
  {
   "cell_type": "code",
   "execution_count": null,
   "metadata": {},
   "outputs": [],
   "source": []
  }
 ],
 "metadata": {
  "kernelspec": {
   "display_name": "ic25-venv",
   "language": "python",
   "name": "python3"
  },
  "language_info": {
   "codemirror_mode": {
    "name": "ipython",
    "version": 3
   },
   "file_extension": ".py",
   "mimetype": "text/x-python",
   "name": "python",
   "nbconvert_exporter": "python",
   "pygments_lexer": "ipython3",
   "version": "3.13.2"
  }
 },
 "nbformat": 4,
 "nbformat_minor": 2
}
